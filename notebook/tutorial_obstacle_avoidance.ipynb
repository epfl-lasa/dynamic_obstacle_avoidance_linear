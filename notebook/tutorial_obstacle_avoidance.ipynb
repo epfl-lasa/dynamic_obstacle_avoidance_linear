{
 "cells": [
  {
   "cell_type": "markdown",
   "id": "f773eea8",
   "metadata": {},
   "source": [
    "# Tutorial for Dynamic Obstacle Avoidance\n",
    "This tutorial is based on following publications: \n",
    "> Huber, Lukas, Aude Billard, and Jean-Jacques E. Slotine. \"Avoidance of Convex and Concave Obstacles with Convergence ensured through Contraction.\" IEEE Robotics and Automation Letters (2019). <br>\n",
    "> Khansari-Zadeh, Seyed Mohammad, and Aude Billard. \"A dynamical system approach to realtime obstacle avoidance.\" Autonomous Robots 32.4 (2012): 433-454.\n",
    "\n",
    "The initial dynamical system $\\vec f(\\xi)$ is modulated to get the final dynamics $\\dot \\xi$:\n",
    "\n",
    "$$ \\dot{\\xi} = M(\\xi) \\vec f(\\xi) $$\n",
    "\n",
    "with modulation matrix $M(\\xi) = E(\\xi)D(\\xi)E(\\xi)^{−1}$ composed of basis matrix $E(\\xi)$ and the diagonal eigenvalue matrix $D(\\xi )$. "
   ]
  },
  {
   "cell_type": "markdown",
   "id": "0cb4011b",
   "metadata": {},
   "source": [
    "### Instructions - Notebook\n",
    "\n",
    "This tutorial is based on jupyter notebook with python code at the backend. The source code can be found under \n",
    "https://github.com/hubernikus/dynamic_obstacle_avoidance_python\n",
    "\n",
    "The notebook can be executed online with the link:\n",
    "https://mybinder.org/v2/gh/hubernikus/dynamic_obstacle_avoidance_python/master\n",
    "\n",
    "This notebook contains a mix of text and code. In order to execute the code, click on the containing field and press CTRL + RETURN. "
   ]
  },
  {
   "cell_type": "code",
   "execution_count": 4,
   "id": "ae74d5b2",
   "metadata": {},
   "outputs": [],
   "source": [
    "try:\n",
    "    from notebook.widget_setup import *\n",
    "    \n",
    "except:\n",
    "    from widget_setup import *\n",
    "    \n",
    "import warnings\n",
    "warnings.filterwarnings('ignore')"
   ]
  },
  {
   "cell_type": "markdown",
   "id": "0198d4cd",
   "metadata": {},
   "source": [
    "\n",
    "## Reference Point\n",
    "The basis matrix $E(\\xi)=\\left[ {\\vec r }(\\xi) \\;\\; \\vec e_1(\\xi) \\;\\; .. \\;\\; \\vec{e}_{d-1}(\\xi) \\right]$ decomposes the initial dynamical system into tangent directions $\\vec e_i(\\xi) \\;\\; i=1..d-1$ and reference direction $\\vec r( \\xi)$.\n",
    "\n",
    " The diagonal eigenvalue matrix $ D(\\xi) =\n",
    " \\textbf{diag} \\left( \\lambda_r(\\xi) , \\lambda_e(\\xi) , .. , \\lambda_{e}( \\xi) \\right) $  stretches the dynamical system along the tangent direction, and compresses along the reference direction.\n",
    "This results in provable avoidance with convergence towards the attractor in environments with star-shaped and convex obstacles.\n",
    "\n",
    "### Exercise 1\n",
    "By running the script bellow you can observe an obstacle with center (black dot) and reference point (black cross). The visualization can be changed \n",
    "1. Change the center paramters $\\xi_1$ and $\\xi_2$ of the obstacle to modify the streamlines: <br>\n",
    "1.1 Find a position of the obstacle where all streamlines avoid the obstacle above. <br>\n",
    "1.2 Find a position of the obstacle where the obstacle splits the streamliens (two above, two bellow). <br>\n",
    "1.3 What influence does the rotation $\\Theta$ have on the behavior? <br>\n",
    "\n",
    "2. Modify the center point of the obstacle (Direction and Exentricity): <br>\n",
    "2.1 Find a pose of the obstacle; where by you only modifying the reference point the trajectoies avoid the obstacle avoidance, first all of them above and then all of them bellow.\n",
    "2.2 What influence does the rotation $\\Theta$ have on the behavior? <br>\n"
   ]
  },
  {
   "cell_type": "code",
   "execution_count": null,
   "id": "f98bcd57",
   "metadata": {
    "scrolled": false
   },
   "outputs": [],
   "source": [
    "\n",
    "example_reference_point()\n"
   ]
  },
  {
   "cell_type": "markdown",
   "id": "1d01333a",
   "metadata": {},
   "source": [
    "\n",
    "## Intersecting Obstacles\n",
    "As could be observed in the previous section, the reference point determines in what direction the trajectories avoid the obstacles. This can now be used as an advantage for us when several obstacles intersect and form a concave star-shape. In such a case we can plase the reference point at the center of the intersection. This allows \n",
    "\n",
    "\n",
    "If you might have observed in the past interaction, the reference point decides the line where the DS is split and moves around the obstacle. This can now be extended to interscting obstacles, if they share a commond attractor they can \n",
    "\n",
    "### Exercise 2\n",
    "The script bellow automatically finds a commond section for two obstacles. \n",
    "1. Choose 2 obstacles. Can you find one commond reference point for two obstacles, without having their body intersect (but only the safety maring)? Observe the vectorfields. <br>\n",
    "2. Choose 4 obstacles. Can you make two pairs of two obstacle? Can you find a configuration with one common reference point? <br>\n",
    "3. Choose 3 obstacles. Make a chain of obstacle (two different reference points). How does the vector field behave? <br>"
   ]
  },
  {
   "cell_type": "code",
   "execution_count": null,
   "id": "8196527f",
   "metadata": {
    "scrolled": false
   },
   "outputs": [],
   "source": [
    "\n",
    "example_intersecting_obstacles()\n"
   ]
  }
 ],
 "metadata": {
  "kernelspec": {
   "display_name": "Python 3",
   "language": "python",
   "name": "python3"
  },
  "language_info": {
   "codemirror_mode": {
    "name": "ipython",
    "version": 3
   },
   "file_extension": ".py",
   "mimetype": "text/x-python",
   "name": "python",
   "nbconvert_exporter": "python",
   "pygments_lexer": "ipython3",
   "version": "3.9.6"
  }
 },
 "nbformat": 4,
 "nbformat_minor": 5
}
